{
  "cells": [
    {
      "cell_type": "markdown",
      "metadata": {
        "id": "view-in-github"
      },
      "source": [
        "[![Open In Colab](https://colab.research.google.com/assets/colab-badge.svg)](https://colab.research.google.com/github/camenduru/Retrieval-based-Voice-Conversion-WebUI-colab/blob/main/rvc_webui.ipynb)"
      ]
    },
    {
      "cell_type": "code",
      "execution_count": null,
      "metadata": {
        "id": "mI-1qtvb6Foo"
      },
      "outputs": [],
      "source": [
        "!apt -y install -qq aria2\n",
        "!git clone https://github.com/camenduru/rvc-webui\n",
        "%cd /content/rvc-webui\n",
        "!pip install -q -r requirements.txt\n",
        "\n",
        "!aria2c --console-log-level=error -c -x 16 -s 16 -k 1M https://huggingface.co/audo/Benee-RVC/resolve/main/BENEE8000.pth -d /content/rvc-webui/models/checkpoints -o Benee-RVC.pth\n",
        "!aria2c --console-log-level=error -c -x 16 -s 16 -k 1M https://huggingface.co/audo/Benee-RVC/resolve/main/added_IVF1054_Flat_nprobe_8.index -d /content/rvc-webui/models/checkpoints -o Benee-RVC.index\n",
        "!aria2c --console-log-level=error -c -x 16 -s 16 -k 1M https://huggingface.co/audo/Benee-RVC/resolve/main/total_fea.npy -d /content/rvc-webui/models/checkpoints -o Benee-RVC.npy\n",
        "\n",
        "!python launch.py --share"
      ]
    }
  ],
  "metadata": {
    "accelerator": "GPU",
    "colab": {
      "provenance": []
    },
    "gpuClass": "standard",
    "kernelspec": {
      "display_name": "Python 3",
      "name": "python3"
    },
    "language_info": {
      "name": "python"
    }
  },
  "nbformat": 4,
  "nbformat_minor": 0
}
