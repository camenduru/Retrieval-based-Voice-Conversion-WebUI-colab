{
 "cells": [
  {
   "cell_type": "markdown",
   "metadata": {
    "id": "view-in-github"
   },
   "source": [
    "[![Open In Colab](https://colab.research.google.com/assets/colab-badge.svg)](https://colab.research.google.com/github/camenduru/Retrieval-based-Voice-Conversion-WebUI-colab/blob/main/test1.ipynb)"
   ]
  },
  {
   "cell_type": "code",
   "execution_count": null,
   "metadata": {},
   "outputs": [],
   "source": [
    "!apt-get -y install build-essential python3-dev ffmpeg\n",
    "!pip3 install --upgrade setuptools wheel\n",
    "!pip3 install --upgrade pip\n",
    "!pip3 install faiss-gpu fairseq gradio ffmpeg ffmpeg-python praat-parselmouth pyworld numpy==1.23.5 numba==0.56.4 librosa==0.9.2\n",
    "!apt -y install -qq aria2\n",
    "!pip install mega.py --quiet\n",
    "!pip install gdown --quiet\n",
    "\n",
    "%cd /content/\n",
    "!wget https://github.com/RVC-Project/Retrieval-based-Voice-Conversion-WebUI/releases/download/20230428updated/updated20230428.zip\n",
    "!mkdir /content/Retrieval-based-Voice-Conversion-WebUI\n",
    "!unzip -d /content/Retrieval-based-Voice-Conversion-WebUI -b updated20230428.zip\n",
    "!rm updated20230428.zip\n",
    "%cd /content/Retrieval-based-Voice-Conversion-WebUI\n",
    "!wget https://raw.githubusercontent.com/777gt/EVC/main/easy-infer.py\n",
    "!mkdir -p pretrained uvr5_weights\n",
    "\n",
    "!aria2c --console-log-level=error -c -x 16 -s 16 -k 1M https://huggingface.co/lj1995/VoiceConversionWebUI/resolve/main/hubert_base.pt -d /content/Retrieval-based-Voice-Conversion-WebUI -o hubert_base.pt\n",
    "\n",
    "from mega import Mega\n",
    "import os\n",
    "MODEL = 'BENEE'\n",
    "MODELEPOCH = ''\n",
    "url='https://drive.google.com/file/d/1nuUVTqg1_lja7JFctjd18W9hQ7rk7aDZ/view?usp=share_link'\n",
    "MODELZIP = MODEL + '.zip'\n",
    "modelname_path='/content/zips/'+MODELZIP\n",
    "!mkdir -p /content/Retrieval-based-Voice-Conversion-WebUI/logs/{MODEL}\n",
    "if url != '':\n",
    "  !mkdir -p /content/zips/\n",
    "  if \"drive.google.com\" in url:\n",
    "    !gdown $url --fuzzy -O $modelname_path\n",
    "  elif \"mega.nz\" in url:\n",
    "    m = Mega()\n",
    "    m.download_url(url, '/content/zips')\n",
    "  else:\n",
    "    !wget $url -O /content/zips/{MODELZIP}\n",
    "  !unzip -d /content/unzips/ -B /content/zips/{MODEL}.zip\n",
    "else:\n",
    "  raise Exception('The URL cannot be empty.')\n",
    "\n",
    "for root, dirs, files in os.walk('/content/unzips'):\n",
    "  for file in files:\n",
    "    if \"G_\" in file:\n",
    "        MODELEPOCH = file.split(\"G_\")[1].split(\".\")[0]\n",
    "  if MODELEPOCH == '':\n",
    "    MODELEPOCH = '404'\n",
    "  for file in files:\n",
    "    file_path = os.path.join(root, file)\n",
    "    if file.endswith(\".npy\") or file.endswith(\".index\"):\n",
    "      !mv {file_path} /content/Retrieval-based-Voice-Conversion-WebUI/logs/{MODEL}/\n",
    "    elif \"G_\" not in file and \"D_\" not in file and file.endswith(\".pth\"):\n",
    "      !mv {file_path} /content/Retrieval-based-Voice-Conversion-WebUI/weights/{MODEL}.pth\n",
    "\n",
    "!rm -r /content/unzips/\n",
    "!rm -r /content/zips/\n",
    "\n",
    "%cd /content/Retrieval-based-Voice-Conversion-WebUI\n",
    "!python3 easy-infer.py --colab --pycmd python3"
   ]
  }
 ],
 "metadata": {
  "language_info": {
   "name": "python"
  },
  "orig_nbformat": 4,
  "colab": {
    "provenance": []
  },
  "accelerator": "GPU",
  "gpuClass": "standard"
 },
 "nbformat": 4,
 "nbformat_minor": 2
}
