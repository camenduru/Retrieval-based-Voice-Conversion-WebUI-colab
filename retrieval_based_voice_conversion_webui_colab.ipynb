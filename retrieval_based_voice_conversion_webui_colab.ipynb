{
 "cells": [
  {
   "cell_type": "markdown",
   "metadata": {
    "id": "view-in-github"
   },
   "source": [
    "[![Open In Colab](https://colab.research.google.com/assets/colab-badge.svg)](https://colab.research.google.com/github/camenduru/Retrieval-based-Voice-Conversion-WebUI-colab/blob/main/retrieval_based_voice_conversion_webui_colab.ipynb)"
   ]
  },
  {
   "cell_type": "code",
   "execution_count": null,
   "metadata": {},
   "outputs": [],
   "source": [
    "# https://github.com/RVC-Project/Retrieval-based-Voice-Conversion-WebUI/blob/main/Retrieval_based_Voice_Conversion_WebUI.ipynb modified\n",
    "# https://colab.research.google.com/drive/1r4IRL0UA7JEoZ0ZK8PKfMyTIBHKpyhcw?usp=sharing modified\n",
    "\n",
    "# Model Tracker https://docs.google.com/spreadsheets/d/1qzeFdpUPr7E0jOFwWSXd8LF30ZLjz1CSVEBiG8gPHTU\n",
    "\n",
    "%cd /content\n",
    "%env TF_CPP_MIN_LOG_LEVEL=1\n",
    "!apt -y install -qq aria2\n",
    "!pip install -q faiss-gpu fairseq gradio ffmpeg ffmpeg-python praat-parselmouth pyworld numpy==1.23.5 numba==0.56.4 librosa==0.9.2 mega.py gdown\n",
    "\n",
    "!git clone -b v1.0 https://github.com/camenduru/Retrieval-based-Voice-Conversion-WebUI\n",
    "%cd /content/Retrieval-based-Voice-Conversion-WebUI\n",
    "!wget https://raw.githubusercontent.com/camenduru/EVC/main/easy-infer.py\n",
    "!mkdir -p pretrained uvr5_weights\n",
    "\n",
    "!aria2c --console-log-level=error -c -x 16 -s 16 -k 1M https://huggingface.co/lj1995/VoiceConversionWebUI/resolve/main/hubert_base.pt -d /content/Retrieval-based-Voice-Conversion-WebUI -o hubert_base.pt\n",
    "\n",
    "import os\n",
    "from mega import Mega\n",
    "MODEL = 'BENEE'\n",
    "MODELEPOCH = ''\n",
    "url='https://drive.google.com/file/d/1nuUVTqg1_lja7JFctjd18W9hQ7rk7aDZ/view?usp=share_link'\n",
    "MODELZIP = MODEL + '.zip'\n",
    "modelname_path='/content/zips/'+MODELZIP\n",
    "!mkdir -p /content/Retrieval-based-Voice-Conversion-WebUI/logs/{MODEL}\n",
    "if url != '':\n",
    "  !mkdir -p /content/zips/\n",
    "  if \"drive.google.com\" in url:\n",
    "    !gdown $url --fuzzy -O $modelname_path\n",
    "  elif \"mega.nz\" in url:\n",
    "    m = Mega()\n",
    "    m.download_url(url, '/content/zips')\n",
    "  else:\n",
    "    !wget $url -O /content/zips/{MODELZIP}\n",
    "  !unzip -d /content/unzips/ -B /content/zips/{MODEL}.zip\n",
    "else:\n",
    "  raise Exception('The URL cannot be empty.')\n",
    "for root, dirs, files in os.walk('/content/unzips'):\n",
    "  for file in files:\n",
    "    if \"G_\" in file:\n",
    "        MODELEPOCH = file.split(\"G_\")[1].split(\".\")[0]\n",
    "  if MODELEPOCH == '':\n",
    "    MODELEPOCH = '404'\n",
    "  for file in files:\n",
    "    file_path = os.path.join(root, file)\n",
    "    if file.endswith(\".npy\") or file.endswith(\".index\"):\n",
    "      !mv {file_path} /content/Retrieval-based-Voice-Conversion-WebUI/logs/{MODEL}/\n",
    "    elif \"G_\" not in file and \"D_\" not in file and file.endswith(\".pth\"):\n",
    "      !mv {file_path} /content/Retrieval-based-Voice-Conversion-WebUI/weights/{MODEL}.pth\n",
    "!rm -r /content/unzips/\n",
    "!rm -r /content/zips/\n",
    "\n",
    "%cd /content/Retrieval-based-Voice-Conversion-WebUI\n",
    "!python3 easy-infer.py --colab --pycmd python3"
   ]
  }
 ],
 "metadata": {
  "language_info": {
   "name": "python"
  },
  "orig_nbformat": 4
 },
 "nbformat": 4,
 "nbformat_minor": 2
}
