{
 "cells": [
  {
   "cell_type": "markdown",
   "metadata": {
    "id": "view-in-github"
   },
   "source": [
    "[![Open In Colab](https://colab.research.google.com/assets/colab-badge.svg)](https://colab.research.google.com/github/camenduru/Retrieval-based-Voice-Conversion-WebUI-colab/blob/main/retrieval_based_voice_conversion_webui_colab.ipynb)"
   ]
  },
  {
   "cell_type": "code",
   "execution_count": null,
   "metadata": {},
   "outputs": [],
   "source": [
    "%cd /content\n",
    "%env TF_CPP_MIN_LOG_LEVEL=1\n",
    "!apt -y install -qq aria2\n",
    "!pip install -q faiss-gpu fairseq gradio ffmpeg ffmpeg-python praat-parselmouth pyworld numpy==1.23.5 numba==0.56.4 librosa==0.9.2 tensorboardX mega.py gdown\n",
    "\n",
    "!git clone -b v1.0 https://github.com/camenduru/Retrieval-based-Voice-Conversion-WebUI\n",
    "%cd /content/Retrieval-based-Voice-Conversion-WebUI\n",
    "!wget https://raw.githubusercontent.com/camenduru/EVC/dev/easy-infer.py\n",
    "\n",
    "!aria2c --console-log-level=error -c -x 16 -s 16 -k 1M https://huggingface.co/audo/VoiceConversionWebUI/resolve/main/hubert_base.pt -d /content/Retrieval-based-Voice-Conversion-WebUI -o hubert_base.pt\n",
    "\n",
    "!aria2c --console-log-level=error -c -x 16 -s 16 -k 1M https://huggingface.co/audo/Benee-RVC/resolve/main/BENEE8000.pth -d /content/Retrieval-based-Voice-Conversion-WebUI/weights -o Benee-RVC.pth\n",
    "!aria2c --console-log-level=error -c -x 16 -s 16 -k 1M https://huggingface.co/audo/Benee-RVC/resolve/main/added_IVF1054_Flat_nprobe_8.index -d /content/Retrieval-based-Voice-Conversion-WebUI/logs/Benee-RVC -o added_IVF1054_Flat_nprobe_8.index\n",
    "!aria2c --console-log-level=error -c -x 16 -s 16 -k 1M https://huggingface.co/audo/Benee-RVC/resolve/main/total_fea.npy -d /content/Retrieval-based-Voice-Conversion-WebUI/logs/Benee-RVC -o total_fea.npy\n",
    "\n",
    "%cd /content/Retrieval-based-Voice-Conversion-WebUI\n",
    "!python easy-infer.py --colab"
   ]
  }
 ],
 "metadata": {
  "language_info": {
   "name": "python"
  },
  "orig_nbformat": 4
 },
 "nbformat": 4,
 "nbformat_minor": 2
}
